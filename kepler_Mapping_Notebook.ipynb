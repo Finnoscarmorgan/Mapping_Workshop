{
 "cells": [
  {
   "cell_type": "markdown",
   "metadata": {},
   "source": [
    "This notebook shows you how to make an interactive map in Kepler GL. Kepler can be accessed in two ways:\n",
    "1. Through the website https://kepler.gl\n",
    "2. In a notebook, which we're doing today"
   ]
  },
  {
   "cell_type": "code",
   "execution_count": 3,
   "metadata": {},
   "outputs": [],
   "source": [
    "import pandas as pd\n",
    "import numpy as np\n",
    "import matplotlib.pyplot as plt\n",
    "import os\n",
    "import sys\n",
    "import watermark\n"
   ]
  },
  {
   "cell_type": "code",
   "execution_count": 4,
   "metadata": {},
   "outputs": [
    {
     "name": "stdout",
     "output_type": "stream",
     "text": [
      "Python implementation: CPython\n",
      "Python version       : 3.8.13\n",
      "IPython version      : 8.4.0\n",
      "\n",
      "numpy     : 1.23.2\n",
      "pandas    : 1.4.4\n",
      "matplotlib: 3.5.3\n",
      "os        : unknown\n",
      "sys       : 3.8.13 (default, Mar 28 2022, 06:16:26) \n",
      "[Clang 12.0.0 ]\n",
      "\n",
      "Compiler    : Clang 12.0.0 \n",
      "OS          : Darwin\n",
      "Release     : 20.5.0\n",
      "Machine     : x86_64\n",
      "Processor   : i386\n",
      "CPU cores   : 8\n",
      "Architecture: 64bit\n",
      "\n"
     ]
    }
   ],
   "source": [
    "#use watermark to print out the versions of the packages used\n",
    "%load_ext watermark\n",
    "%watermark -v -m -p numpy,pandas,matplotlib,os,sys\n"
   ]
  }
 ],
 "metadata": {
  "kernelspec": {
   "display_name": "Python 3.8.13 ('spatial_analysis')",
   "language": "python",
   "name": "python3"
  },
  "language_info": {
   "codemirror_mode": {
    "name": "ipython",
    "version": 3
   },
   "file_extension": ".py",
   "mimetype": "text/x-python",
   "name": "python",
   "nbconvert_exporter": "python",
   "pygments_lexer": "ipython3",
   "version": "3.8.13"
  },
  "orig_nbformat": 4,
  "vscode": {
   "interpreter": {
    "hash": "d1597f3bd7287e6acb13efe790ad4fec7e789f47dac1a613bdf6342324ffe628"
   }
  }
 },
 "nbformat": 4,
 "nbformat_minor": 2
}
